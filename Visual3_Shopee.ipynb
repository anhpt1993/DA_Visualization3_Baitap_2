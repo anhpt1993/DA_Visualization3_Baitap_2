{
 "cells": [
  {
   "cell_type": "markdown",
   "id": "d9d31c30-41fe-4754-97fa-0add64496924",
   "metadata": {},
   "source": [
    "# 0. Khai báo các thư viện cần thiết"
   ]
  },
  {
   "cell_type": "code",
   "execution_count": 1,
   "id": "493adec6-ee27-4c18-97cc-efadf26e1757",
   "metadata": {},
   "outputs": [],
   "source": [
    "import pandas as pd\n",
    "import seaborn as sns"
   ]
  },
  {
   "cell_type": "markdown",
   "id": "d8207f18-2469-442b-a437-6ad13cd9b32d",
   "metadata": {},
   "source": [
    "# 1. Đọc dữ liệu từ file CSV"
   ]
  },
  {
   "cell_type": "code",
   "execution_count": 2,
   "id": "bf947f4e-ba8b-4751-99ec-e2201e313407",
   "metadata": {},
   "outputs": [
    {
     "data": {
      "text/html": [
       "<div>\n",
       "<style scoped>\n",
       "    .dataframe tbody tr th:only-of-type {\n",
       "        vertical-align: middle;\n",
       "    }\n",
       "\n",
       "    .dataframe tbody tr th {\n",
       "        vertical-align: top;\n",
       "    }\n",
       "\n",
       "    .dataframe thead th {\n",
       "        text-align: right;\n",
       "    }\n",
       "</style>\n",
       "<table border=\"1\" class=\"dataframe\">\n",
       "  <thead>\n",
       "    <tr style=\"text-align: right;\">\n",
       "      <th></th>\n",
       "      <th>pk_shop</th>\n",
       "      <th>date_collected</th>\n",
       "      <th>shopid</th>\n",
       "      <th>name</th>\n",
       "      <th>join_month</th>\n",
       "      <th>join_day</th>\n",
       "      <th>join_year</th>\n",
       "      <th>item_count</th>\n",
       "      <th>follower_count</th>\n",
       "      <th>response_time</th>\n",
       "      <th>response_rate</th>\n",
       "      <th>shop_location</th>\n",
       "      <th>rating_bad</th>\n",
       "      <th>rating_good</th>\n",
       "      <th>rating_normal</th>\n",
       "      <th>rating_star</th>\n",
       "      <th>is_shopee_verified</th>\n",
       "      <th>is_official_shop</th>\n",
       "    </tr>\n",
       "  </thead>\n",
       "  <tbody>\n",
       "    <tr>\n",
       "      <th>0</th>\n",
       "      <td>20210613254711738</td>\n",
       "      <td>2021-06-13</td>\n",
       "      <td>254711738</td>\n",
       "      <td>hello.may.ph</td>\n",
       "      <td>April</td>\n",
       "      <td>27</td>\n",
       "      <td>2020</td>\n",
       "      <td>446</td>\n",
       "      <td>17487</td>\n",
       "      <td>10:13:55</td>\n",
       "      <td>96</td>\n",
       "      <td>NaN</td>\n",
       "      <td>181</td>\n",
       "      <td>17510</td>\n",
       "      <td>729</td>\n",
       "      <td>4.81</td>\n",
       "      <td>1</td>\n",
       "      <td>0</td>\n",
       "    </tr>\n",
       "    <tr>\n",
       "      <th>1</th>\n",
       "      <td>20210613314198143</td>\n",
       "      <td>2021-06-13</td>\n",
       "      <td>314198143</td>\n",
       "      <td>love.women.shop</td>\n",
       "      <td>September</td>\n",
       "      <td>25</td>\n",
       "      <td>2020</td>\n",
       "      <td>263</td>\n",
       "      <td>8574</td>\n",
       "      <td>10:43:05</td>\n",
       "      <td>73</td>\n",
       "      <td>San Nicolas,Metro Manila</td>\n",
       "      <td>78</td>\n",
       "      <td>2656</td>\n",
       "      <td>198</td>\n",
       "      <td>4.68</td>\n",
       "      <td>0</td>\n",
       "      <td>0</td>\n",
       "    </tr>\n",
       "    <tr>\n",
       "      <th>2</th>\n",
       "      <td>2021061310377223</td>\n",
       "      <td>2021-06-13</td>\n",
       "      <td>10377223</td>\n",
       "      <td>R&amp;O RedOrange</td>\n",
       "      <td>September</td>\n",
       "      <td>27</td>\n",
       "      <td>2016</td>\n",
       "      <td>209</td>\n",
       "      <td>660417</td>\n",
       "      <td>08:32:07</td>\n",
       "      <td>90</td>\n",
       "      <td>Pasay City,Metro Manila</td>\n",
       "      <td>4647</td>\n",
       "      <td>1071829</td>\n",
       "      <td>18073</td>\n",
       "      <td>4.91</td>\n",
       "      <td>1</td>\n",
       "      <td>0</td>\n",
       "    </tr>\n",
       "    <tr>\n",
       "      <th>3</th>\n",
       "      <td>2021061321407329</td>\n",
       "      <td>2021-06-13</td>\n",
       "      <td>21407329</td>\n",
       "      <td>patriciacai</td>\n",
       "      <td>April</td>\n",
       "      <td>30</td>\n",
       "      <td>2017</td>\n",
       "      <td>165</td>\n",
       "      <td>18787</td>\n",
       "      <td>09:10:38</td>\n",
       "      <td>94</td>\n",
       "      <td>Binondo,Metro Manila</td>\n",
       "      <td>44</td>\n",
       "      <td>18959</td>\n",
       "      <td>215</td>\n",
       "      <td>4.94</td>\n",
       "      <td>1</td>\n",
       "      <td>0</td>\n",
       "    </tr>\n",
       "    <tr>\n",
       "      <th>4</th>\n",
       "      <td>2021061311187885</td>\n",
       "      <td>2021-06-13</td>\n",
       "      <td>11187885</td>\n",
       "      <td>Little Market Manila</td>\n",
       "      <td>October</td>\n",
       "      <td>18</td>\n",
       "      <td>2016</td>\n",
       "      <td>467</td>\n",
       "      <td>67371</td>\n",
       "      <td>11:40:59</td>\n",
       "      <td>89</td>\n",
       "      <td>Caloocan City,Metro Manila</td>\n",
       "      <td>680</td>\n",
       "      <td>39252</td>\n",
       "      <td>2383</td>\n",
       "      <td>4.73</td>\n",
       "      <td>1</td>\n",
       "      <td>0</td>\n",
       "    </tr>\n",
       "  </tbody>\n",
       "</table>\n",
       "</div>"
      ],
      "text/plain": [
       "             pk_shop date_collected     shopid                  name  \\\n",
       "0  20210613254711738     2021-06-13  254711738          hello.may.ph   \n",
       "1  20210613314198143     2021-06-13  314198143       love.women.shop   \n",
       "2   2021061310377223     2021-06-13   10377223         R&O RedOrange   \n",
       "3   2021061321407329     2021-06-13   21407329           patriciacai   \n",
       "4   2021061311187885     2021-06-13   11187885  Little Market Manila   \n",
       "\n",
       "  join_month  join_day  join_year  item_count  follower_count response_time  \\\n",
       "0      April        27       2020         446           17487      10:13:55   \n",
       "1  September        25       2020         263            8574      10:43:05   \n",
       "2  September        27       2016         209          660417      08:32:07   \n",
       "3      April        30       2017         165           18787      09:10:38   \n",
       "4    October        18       2016         467           67371      11:40:59   \n",
       "\n",
       "   response_rate               shop_location  rating_bad  rating_good  \\\n",
       "0             96                         NaN         181        17510   \n",
       "1             73    San Nicolas,Metro Manila          78         2656   \n",
       "2             90     Pasay City,Metro Manila        4647      1071829   \n",
       "3             94        Binondo,Metro Manila          44        18959   \n",
       "4             89  Caloocan City,Metro Manila         680        39252   \n",
       "\n",
       "   rating_normal  rating_star  is_shopee_verified  is_official_shop  \n",
       "0            729         4.81                   1                 0  \n",
       "1            198         4.68                   0                 0  \n",
       "2          18073         4.91                   1                 0  \n",
       "3            215         4.94                   1                 0  \n",
       "4           2383         4.73                   1                 0  "
      ]
     },
     "execution_count": 2,
     "metadata": {},
     "output_type": "execute_result"
    }
   ],
   "source": [
    "df = pd.read_csv(\"https://s3.ap-southeast-1.amazonaws.com/learn.codegym.vn/media/public/2022/01/20125029/shopeep_koreantop_clothing_shop_data.csv\", encoding = \"ISO-8859-1\")\n",
    "df.head()"
   ]
  },
  {
   "cell_type": "code",
   "execution_count": 3,
   "id": "aad9bf73-5060-4ebf-b453-9bb50ca21999",
   "metadata": {},
   "outputs": [
    {
     "name": "stdout",
     "output_type": "stream",
     "text": [
      "<class 'pandas.core.frame.DataFrame'>\n",
      "RangeIndex: 746 entries, 0 to 745\n",
      "Data columns (total 18 columns):\n",
      " #   Column              Non-Null Count  Dtype  \n",
      "---  ------              --------------  -----  \n",
      " 0   pk_shop             746 non-null    int64  \n",
      " 1   date_collected      746 non-null    object \n",
      " 2   shopid              746 non-null    int64  \n",
      " 3   name                746 non-null    object \n",
      " 4   join_month          746 non-null    object \n",
      " 5   join_day            746 non-null    int64  \n",
      " 6   join_year           746 non-null    int64  \n",
      " 7   item_count          746 non-null    int64  \n",
      " 8   follower_count      746 non-null    int64  \n",
      " 9   response_time       746 non-null    object \n",
      " 10  response_rate       746 non-null    int64  \n",
      " 11  shop_location       428 non-null    object \n",
      " 12  rating_bad          746 non-null    int64  \n",
      " 13  rating_good         746 non-null    int64  \n",
      " 14  rating_normal       746 non-null    int64  \n",
      " 15  rating_star         740 non-null    float64\n",
      " 16  is_shopee_verified  746 non-null    int64  \n",
      " 17  is_official_shop    746 non-null    int64  \n",
      "dtypes: float64(1), int64(12), object(5)\n",
      "memory usage: 105.0+ KB\n"
     ]
    }
   ],
   "source": [
    "df.info()"
   ]
  },
  {
   "cell_type": "code",
   "execution_count": 4,
   "id": "e50ce9e4-c011-4e18-bc68-3d153c37ef7d",
   "metadata": {},
   "outputs": [
    {
     "data": {
      "text/html": [
       "<div>\n",
       "<style scoped>\n",
       "    .dataframe tbody tr th:only-of-type {\n",
       "        vertical-align: middle;\n",
       "    }\n",
       "\n",
       "    .dataframe tbody tr th {\n",
       "        vertical-align: top;\n",
       "    }\n",
       "\n",
       "    .dataframe thead th {\n",
       "        text-align: right;\n",
       "    }\n",
       "</style>\n",
       "<table border=\"1\" class=\"dataframe\">\n",
       "  <thead>\n",
       "    <tr style=\"text-align: right;\">\n",
       "      <th></th>\n",
       "      <th>shopid</th>\n",
       "      <th>join_year</th>\n",
       "      <th>response_rate</th>\n",
       "      <th>rating_good</th>\n",
       "      <th>response_time</th>\n",
       "      <th>rating_bad</th>\n",
       "      <th>rating_star</th>\n",
       "      <th>is_shopee_verified</th>\n",
       "      <th>is_official_shop</th>\n",
       "    </tr>\n",
       "  </thead>\n",
       "  <tbody>\n",
       "    <tr>\n",
       "      <th>0</th>\n",
       "      <td>254711738</td>\n",
       "      <td>2020</td>\n",
       "      <td>96</td>\n",
       "      <td>17510</td>\n",
       "      <td>10:13:55</td>\n",
       "      <td>181</td>\n",
       "      <td>4.81</td>\n",
       "      <td>1</td>\n",
       "      <td>0</td>\n",
       "    </tr>\n",
       "    <tr>\n",
       "      <th>1</th>\n",
       "      <td>314198143</td>\n",
       "      <td>2020</td>\n",
       "      <td>73</td>\n",
       "      <td>2656</td>\n",
       "      <td>10:43:05</td>\n",
       "      <td>78</td>\n",
       "      <td>4.68</td>\n",
       "      <td>0</td>\n",
       "      <td>0</td>\n",
       "    </tr>\n",
       "    <tr>\n",
       "      <th>2</th>\n",
       "      <td>10377223</td>\n",
       "      <td>2016</td>\n",
       "      <td>90</td>\n",
       "      <td>1071829</td>\n",
       "      <td>08:32:07</td>\n",
       "      <td>4647</td>\n",
       "      <td>4.91</td>\n",
       "      <td>1</td>\n",
       "      <td>0</td>\n",
       "    </tr>\n",
       "    <tr>\n",
       "      <th>3</th>\n",
       "      <td>21407329</td>\n",
       "      <td>2017</td>\n",
       "      <td>94</td>\n",
       "      <td>18959</td>\n",
       "      <td>09:10:38</td>\n",
       "      <td>44</td>\n",
       "      <td>4.94</td>\n",
       "      <td>1</td>\n",
       "      <td>0</td>\n",
       "    </tr>\n",
       "    <tr>\n",
       "      <th>4</th>\n",
       "      <td>11187885</td>\n",
       "      <td>2016</td>\n",
       "      <td>89</td>\n",
       "      <td>39252</td>\n",
       "      <td>11:40:59</td>\n",
       "      <td>680</td>\n",
       "      <td>4.73</td>\n",
       "      <td>1</td>\n",
       "      <td>0</td>\n",
       "    </tr>\n",
       "  </tbody>\n",
       "</table>\n",
       "</div>"
      ],
      "text/plain": [
       "      shopid  join_year  response_rate  rating_good response_time  rating_bad  \\\n",
       "0  254711738       2020             96        17510      10:13:55         181   \n",
       "1  314198143       2020             73         2656      10:43:05          78   \n",
       "2   10377223       2016             90      1071829      08:32:07        4647   \n",
       "3   21407329       2017             94        18959      09:10:38          44   \n",
       "4   11187885       2016             89        39252      11:40:59         680   \n",
       "\n",
       "   rating_star  is_shopee_verified  is_official_shop  \n",
       "0         4.81                   1                 0  \n",
       "1         4.68                   0                 0  \n",
       "2         4.91                   1                 0  \n",
       "3         4.94                   1                 0  \n",
       "4         4.73                   1                 0  "
      ]
     },
     "execution_count": 4,
     "metadata": {},
     "output_type": "execute_result"
    }
   ],
   "source": [
    "# tách dữ liệu cần thiết\n",
    "new_df = df.loc[:, [\"shopid\", \"join_year\", \"response_rate\", \"rating_good\", \"response_time\", \"rating_bad\", \"rating_star\", \"is_shopee_verified\", \"is_official_shop\"]]\n",
    "new_df.head()"
   ]
  },
  {
   "cell_type": "code",
   "execution_count": 5,
   "id": "a726f9af-372e-4a6d-b5b3-a2788b7ee7e3",
   "metadata": {},
   "outputs": [
    {
     "name": "stdout",
     "output_type": "stream",
     "text": [
      "<class 'pandas.core.frame.DataFrame'>\n",
      "RangeIndex: 746 entries, 0 to 745\n",
      "Data columns (total 9 columns):\n",
      " #   Column              Non-Null Count  Dtype  \n",
      "---  ------              --------------  -----  \n",
      " 0   shopid              746 non-null    int64  \n",
      " 1   join_year           746 non-null    int64  \n",
      " 2   response_rate       746 non-null    int64  \n",
      " 3   rating_good         746 non-null    int64  \n",
      " 4   response_time       746 non-null    object \n",
      " 5   rating_bad          746 non-null    int64  \n",
      " 6   rating_star         740 non-null    float64\n",
      " 7   is_shopee_verified  746 non-null    int64  \n",
      " 8   is_official_shop    746 non-null    int64  \n",
      "dtypes: float64(1), int64(7), object(1)\n",
      "memory usage: 52.6+ KB\n"
     ]
    }
   ],
   "source": [
    "new_df.info()"
   ]
  },
  {
   "cell_type": "code",
   "execution_count": 6,
   "id": "dd3c714d-0e04-49d6-9ea5-80ecde627c85",
   "metadata": {},
   "outputs": [
    {
     "name": "stdout",
     "output_type": "stream",
     "text": [
      "<class 'pandas.core.frame.DataFrame'>\n",
      "RangeIndex: 746 entries, 0 to 745\n",
      "Data columns (total 9 columns):\n",
      " #   Column              Non-Null Count  Dtype  \n",
      "---  ------              --------------  -----  \n",
      " 0   shopid              746 non-null    int64  \n",
      " 1   join_year           746 non-null    int64  \n",
      " 2   response_rate       746 non-null    int64  \n",
      " 3   rating_good         746 non-null    int64  \n",
      " 4   response_time       746 non-null    object \n",
      " 5   rating_bad          746 non-null    int64  \n",
      " 6   rating_star         746 non-null    float64\n",
      " 7   is_shopee_verified  746 non-null    int64  \n",
      " 8   is_official_shop    746 non-null    int64  \n",
      "dtypes: float64(1), int64(7), object(1)\n",
      "memory usage: 52.6+ KB\n"
     ]
    }
   ],
   "source": [
    "new_df.rating_star.fillna(new_df.rating_star.mean(), inplace = True)\n",
    "new_df.info()"
   ]
  },
  {
   "cell_type": "markdown",
   "id": "57ebbce6-a348-4183-9db6-c4d16e8590d0",
   "metadata": {},
   "source": [
    "# 2. Xử lý giá trị khuyết thiếu và giá trị ngoại lai"
   ]
  },
  {
   "cell_type": "code",
   "execution_count": 7,
   "id": "725dcd47-907e-455f-b222-8bb751f1f91a",
   "metadata": {},
   "outputs": [],
   "source": [
    "# Chuyển đồi response time sang kiểu giây\n",
    "new_df.response_time = pd.to_datetime(new_df.response_time, format=' %H:%M:%S')\n",
    "new_df[\"total_seconds\"] = new_df.response_time.dt.second + new_df.response_time.dt.minute * 60 + new_df.response_time.dt.hour * 3600"
   ]
  },
  {
   "cell_type": "code",
   "execution_count": 8,
   "id": "2ca0fe55-4cc4-40c6-b6f6-454a8b9ff5a0",
   "metadata": {},
   "outputs": [
    {
     "name": "stdout",
     "output_type": "stream",
     "text": [
      "<class 'pandas.core.frame.DataFrame'>\n",
      "RangeIndex: 746 entries, 0 to 745\n",
      "Data columns (total 9 columns):\n",
      " #   Column              Non-Null Count  Dtype  \n",
      "---  ------              --------------  -----  \n",
      " 0   shopid              746 non-null    int64  \n",
      " 1   join_year           746 non-null    int64  \n",
      " 2   response_rate       746 non-null    int64  \n",
      " 3   rating_good         746 non-null    int64  \n",
      " 4   rating_bad          746 non-null    int64  \n",
      " 5   rating_star         746 non-null    float64\n",
      " 6   is_shopee_verified  746 non-null    int64  \n",
      " 7   is_official_shop    746 non-null    int64  \n",
      " 8   total_seconds       746 non-null    int64  \n",
      "dtypes: float64(1), int64(8)\n",
      "memory usage: 52.6 KB\n"
     ]
    }
   ],
   "source": [
    "new_df.drop(\"response_time\", axis = 1, inplace = True)\n",
    "new_df.info()"
   ]
  },
  {
   "cell_type": "code",
   "execution_count": 12,
   "id": "2b35ed7d-8194-4f0f-9e99-2e5db3175a3c",
   "metadata": {},
   "outputs": [
    {
     "data": {
      "text/plain": [
       "<AxesSubplot:xlabel='response_rate'>"
      ]
     },
     "execution_count": 12,
     "metadata": {},
     "output_type": "execute_result"
    },
    {
     "data": {
      "image/png": "[encoded data removed]",
      "text/plain": [
       "<Figure size 432x288 with 1 Axes>"
      ]
     },
     "metadata": {
      "needs_background": "light"
     },
     "output_type": "display_data"
    }
   ],
   "source": [
    "# Vẽ biểu đồ boxplot\n",
    "sns.boxplot(x = \"response_rate\",data = new_df)"
   ]
  },
  {
   "cell_type": "markdown",
   "id": "1fd1ad55-cad4-4c72-94e9-2bd335996573",
   "metadata": {},
   "source": [
    "# 3. Vẽ biểu đồ tần số số lượng shop gia nhập theo các năm"
   ]
  },
  {
   "cell_type": "code",
   "execution_count": 15,
   "id": "5eeafcbf-a6f5-47d3-a7e2-daba1f215b8c",
   "metadata": {},
   "outputs": [],
   "source": [
    "# lấy ra dataframe chứa cột shopid và join_year\n",
    "temp = new_df.loc[:, [\"shopid\", \"join_year\"]]"
   ]
  },
  {
   "cell_type": "code",
   "execution_count": 16,
   "id": "5646573f-c66b-4756-b22a-ab05b5df6593",
   "metadata": {},
   "outputs": [],
   "source": [
    "# xoá các shopid trùng nhau\n",
    "temp.drop_duplicates(subset = [\"shopid\"], inplace = True)"
   ]
  },
  {
   "cell_type": "code",
   "execution_count": 17,
   "id": "b41e7682-8ed4-415e-b339-c777b0190bd9",
   "metadata": {},
   "outputs": [
    {
     "data": {
      "text/plain": [
       "<AxesSubplot:xlabel='join_year', ylabel='count'>"
      ]
     },
     "execution_count": 17,
     "metadata": {},
     "output_type": "execute_result"
    },
    {
     "data": {
      "image/png": "[encoded data removed]",
      "text/plain": [
       "<Figure size 432x288 with 1 Axes>"
      ]
     },
     "metadata": {
      "needs_background": "light"
     },
     "output_type": "display_data"
    }
   ],
   "source": [
    "# Biểu đồ countplot\n",
    "sns.countplot(x = \"join_year\", data = temp)"
   ]
  },
  {
   "cell_type": "markdown",
   "id": "4cc401c5-4d43-4ca1-9f27-b50857a50b7d",
   "metadata": {
    "tags": []
   },
   "source": [
    "# 4. Vẽ biểu đồ xu hướng thể hiện mối quan hệ giữa tỉ lệ phản hồi với số lượt khách hàng đánh giá tốt"
   ]
  },
  {
   "cell_type": "code",
   "execution_count": 18,
   "id": "f363f34f-b692-427d-a3e1-1db77c9408cb",
   "metadata": {},
   "outputs": [
    {
     "name": "stdout",
     "output_type": "stream",
     "text": [
      "<class 'pandas.core.frame.DataFrame'>\n",
      "RangeIndex: 746 entries, 0 to 745\n",
      "Data columns (total 9 columns):\n",
      " #   Column              Non-Null Count  Dtype  \n",
      "---  ------              --------------  -----  \n",
      " 0   shopid              746 non-null    int64  \n",
      " 1   join_year           746 non-null    int64  \n",
      " 2   response_rate       746 non-null    int64  \n",
      " 3   rating_good         746 non-null    int64  \n",
      " 4   rating_bad          746 non-null    int64  \n",
      " 5   rating_star         746 non-null    float64\n",
      " 6   is_shopee_verified  746 non-null    int64  \n",
      " 7   is_official_shop    746 non-null    int64  \n",
      " 8   total_seconds       746 non-null    int64  \n",
      "dtypes: float64(1), int64(8)\n",
      "memory usage: 52.6 KB\n"
     ]
    }
   ],
   "source": [
    "new_df.info()"
   ]
  },
  {
   "cell_type": "code",
   "execution_count": 19,
   "id": "4e4289f5-b397-4b07-b103-6a26c1e5edff",
   "metadata": {},
   "outputs": [
    {
     "data": {
      "text/plain": [
       "<seaborn.axisgrid.FacetGrid at 0x24dd192dff0>"
      ]
     },
     "execution_count": 19,
     "metadata": {},
     "output_type": "execute_result"
    },
    {
     "data": {
      "image/png": "[encoded data removed]",
      "text/plain": [
       "<Figure size 360x360 with 1 Axes>"
      ]
     },
     "metadata": {
      "needs_background": "light"
     },
     "output_type": "display_data"
    }
   ],
   "source": [
    "# Biểu đồ xu hướng\n",
    "sns.lmplot(x = \"response_rate\", y = \"rating_good\", data = new_df)"
   ]
  },
  {
   "cell_type": "markdown",
   "id": "f446442d-9637-4728-ac11-3407558c2520",
   "metadata": {},
   "source": [
    "# 5. Vẽ biểu đồ xu hướng thể hiện mối quan hệ giữa thời gian phản hồi (đơn vị giây) với số lượt khách hàng đánh giá xấu"
   ]
  },
  {
   "cell_type": "code",
   "execution_count": 20,
   "id": "6b8aa02a-c40d-464a-a3b2-69d6f65127ac",
   "metadata": {},
   "outputs": [
    {
     "data": {
      "text/plain": [
       "<seaborn.axisgrid.FacetGrid at 0x24dcee4f640>"
      ]
     },
     "execution_count": 20,
     "metadata": {},
     "output_type": "execute_result"
    },
    {
     "data": {
      "image/png": "[encoded data removed]",
      "text/plain": [
       "<Figure size 360x360 with 1 Axes>"
      ]
     },
     "metadata": {
      "needs_background": "light"
     },
     "output_type": "display_data"
    }
   ],
   "source": [
    "# Biểu đồ xu hướng\n",
    "sns.lmplot(x = \"total_seconds\", y = \"rating_bad\", data = new_df)"
   ]
  },
  {
   "cell_type": "markdown",
   "id": "23654d15-5744-4a45-bf2e-c3819cff4075",
   "metadata": {},
   "source": [
    "# 6. Vẽ biểu đồ thể hiện phân bố của điểm đánh giá trung bình"
   ]
  },
  {
   "cell_type": "code",
   "execution_count": 21,
   "id": "7b66e47c-b412-4a8c-9e94-72456a6f8d98",
   "metadata": {},
   "outputs": [
    {
     "data": {
      "text/plain": [
       "<AxesSubplot:xlabel='rating_star'>"
      ]
     },
     "execution_count": 21,
     "metadata": {},
     "output_type": "execute_result"
    },
    {
     "data": {
      "image/png": "[encoded data removed]",
      "text/plain": [
       "<Figure size 432x288 with 1 Axes>"
      ]
     },
     "metadata": {
      "needs_background": "light"
     },
     "output_type": "display_data"
    }
   ],
   "source": [
    "# Biểu đồ phân bố Violin\n",
    "sns.violinplot(x = \"rating_star\", data = new_df)"
   ]
  },
  {
   "cell_type": "markdown",
   "id": "ee9f0ab9-6da7-423d-9942-8b759f186f17",
   "metadata": {},
   "source": [
    "# 7. Vẽ biểu đồ tần số của cửa hàng chính thức và không chính thức"
   ]
  },
  {
   "cell_type": "code",
   "execution_count": 22,
   "id": "77b86b04-9439-4d05-9edc-c249483e1df0",
   "metadata": {},
   "outputs": [
    {
     "data": {
      "text/plain": [
       "<AxesSubplot:xlabel='is_official_shop', ylabel='count'>"
      ]
     },
     "execution_count": 22,
     "metadata": {},
     "output_type": "execute_result"
    },
    {
     "data": {
      "image/png": "[encoded data removed]",
      "text/plain": [
       "<Figure size 432x288 with 1 Axes>"
      ]
     },
     "metadata": {
      "needs_background": "light"
     },
     "output_type": "display_data"
    }
   ],
   "source": [
    "# Biểu đồ tần số của hàng chính thức và không chính thức\n",
    "sns.countplot(x =\"is_official_shop\", data = new_df)"
   ]
  },
  {
   "cell_type": "markdown",
   "id": "0233d76c-bd8f-4479-8d51-3fdabd6b3889",
   "metadata": {},
   "source": [
    "# 8. Vẽ biểu đồ tần số của cửa hàng được xác thực với chưa xác thực"
   ]
  },
  {
   "cell_type": "code",
   "execution_count": 23,
   "id": "7a74fb13-dc44-4d47-8091-460ce15b6858",
   "metadata": {},
   "outputs": [
    {
     "data": {
      "text/plain": [
       "<AxesSubplot:xlabel='is_shopee_verified', ylabel='count'>"
      ]
     },
     "execution_count": 23,
     "metadata": {},
     "output_type": "execute_result"
    },
    {
     "data": {
      "image/png": "[encoded data removed]",
      "text/plain": [
       "<Figure size 432x288 with 1 Axes>"
      ]
     },
     "metadata": {
      "needs_background": "light"
     },
     "output_type": "display_data"
    }
   ],
   "source": [
    "# Biểu đồ tần số của hàng được xác thực với chưa được xác thực\n",
    "sns.countplot(x =\"is_shopee_verified\", data = new_df)"
   ]
  }
 ],
 "metadata": {
  "kernelspec": {
   "display_name": "Python 3 (ipykernel)",
   "language": "python",
   "name": "python3"
  },
  "language_info": {
   "codemirror_mode": {
    "name": "ipython",
    "version": 3
   },
   "file_extension": ".py",
   "mimetype": "text/x-python",
   "name": "python",
   "nbconvert_exporter": "python",
   "pygments_lexer": "ipython3",
   "version": "3.10.1"
  }
 },
 "nbformat": 4,
 "nbformat_minor": 5
}
